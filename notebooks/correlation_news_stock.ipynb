{
 "cells": [
  {
   "cell_type": "markdown",
   "id": "77feea7a",
   "metadata": {},
   "source": [
    "### Importing Necessary Packages"
   ]
  },
  {
   "cell_type": "code",
   "execution_count": 2,
   "id": "ae45b8ee",
   "metadata": {},
   "outputs": [],
   "source": [
    "import pandas as pd\n",
    "import numpy as np\n",
    "from textblob import TextBlob\n",
    "import matplotlib.pyplot as plt\n",
    "%matplotlib inline"
   ]
  },
  {
   "cell_type": "markdown",
   "id": "46316cc8",
   "metadata": {},
   "source": [
    "### Loading the data"
   ]
  },
  {
   "cell_type": "code",
   "execution_count": 3,
   "id": "7a8cc055",
   "metadata": {},
   "outputs": [
    {
     "name": "stdout",
     "output_type": "stream",
     "text": [
      "News Data Sample:\n",
      "    Unnamed: 0                                           headline  \\\n",
      "0           0            Stocks That Hit 52-Week Highs On Friday   \n",
      "1           1         Stocks That Hit 52-Week Highs On Wednesday   \n",
      "2           2                      71 Biggest Movers From Friday   \n",
      "3           3       46 Stocks Moving In Friday's Mid-Day Session   \n",
      "4           4  B of A Securities Maintains Neutral on Agilent...   \n",
      "\n",
      "                                                 url          publisher  \\\n",
      "0  https://www.benzinga.com/news/20/06/16190091/s...  Benzinga Insights   \n",
      "1  https://www.benzinga.com/news/20/06/16170189/s...  Benzinga Insights   \n",
      "2  https://www.benzinga.com/news/20/05/16103463/7...         Lisa Levin   \n",
      "3  https://www.benzinga.com/news/20/05/16095921/4...         Lisa Levin   \n",
      "4  https://www.benzinga.com/news/20/05/16095304/b...         Vick Meyer   \n",
      "\n",
      "                        date stock  \n",
      "0  2020-06-05 10:30:54-04:00     A  \n",
      "1  2020-06-03 10:45:20-04:00     A  \n",
      "2  2020-05-26 04:30:07-04:00     A  \n",
      "3  2020-05-22 12:45:06-04:00     A  \n",
      "4  2020-05-22 11:38:59-04:00     A  \n"
     ]
    }
   ],
   "source": [
    "NEWS_FILE = '../data/raw_analyst_ratings.csv'\n",
    "BASE_PATH = '../data/yfinance_data/'\n",
    "STOCK_FILES = {'AAPL': 'AAPL_historical_data.csv',\n",
    "    'AMZN': 'AMZN_historical_data.csv',\n",
    "    'GOOG': 'GOOG_historical_data.csv',\n",
    "    'META': 'META_historical_data.csv',\n",
    "    'MSFT': 'MSFT_historical_data.csv',\n",
    "    'NVDA': 'NVDA_historical_data.csv',\n",
    "    'TSLA': 'TSLA_historical_data.csv'\n",
    "     }\n",
    "\n",
    "data = pd.read_csv(NEWS_FILE)\n",
    "print(\"News Data Sample:\\n\", data.head())"
   ]
  },
  {
   "cell_type": "markdown",
   "id": "510ff484",
   "metadata": {},
   "source": [
    "### Load and combine stock data"
   ]
  },
  {
   "cell_type": "code",
   "execution_count": 4,
   "id": "42f9e9fb",
   "metadata": {},
   "outputs": [
    {
     "name": "stdout",
     "output_type": "stream",
     "text": [
      "\n",
      "Stock Data Sample:\n",
      "          Date      Open      High       Low     Close  Adj Close     Volume  \\\n",
      "0  1980-12-12  0.128348  0.128906  0.128348  0.128348   0.098943  469033600   \n",
      "1  1980-12-15  0.122210  0.122210  0.121652  0.121652   0.093781  175884800   \n",
      "2  1980-12-16  0.113281  0.113281  0.112723  0.112723   0.086898  105728000   \n",
      "3  1980-12-17  0.115513  0.116071  0.115513  0.115513   0.089049   86441600   \n",
      "4  1980-12-18  0.118862  0.119420  0.118862  0.118862   0.091630   73449600   \n",
      "\n",
      "   Dividends  Stock Splits Stock  \n",
      "0        0.0           0.0  AAPL  \n",
      "1        0.0           0.0  AAPL  \n",
      "2        0.0           0.0  AAPL  \n",
      "3        0.0           0.0  AAPL  \n",
      "4        0.0           0.0  AAPL  \n"
     ]
    }
   ],
   "source": [
    "stock_dfs = []\n",
    "for symbol, file in STOCK_FILES.items():\n",
    "    stock_data = pd.read_csv(BASE_PATH + file)\n",
    "    stock_data['Stock'] = symbol\n",
    "    stock_dfs.append(stock_data)\n",
    "stock_df = pd.concat(stock_dfs, ignore_index=True)\n",
    "print(\"\\nStock Data Sample:\\n\", stock_df.head())"
   ]
  },
  {
   "cell_type": "markdown",
   "id": "d9513878",
   "metadata": {},
   "source": [
    "### Normalize dates"
   ]
  },
  {
   "cell_type": "code",
   "execution_count": 8,
   "id": "cbd14fee",
   "metadata": {},
   "outputs": [],
   "source": [
    "data['date'] = pd.to_datetime(data['date'], format='mixed', errors='coerce')\n",
    "data = data.dropna(subset=['date'])\n",
    "data['date'] = data['date'].dt.tz_localize(None).dt.tz_localize('UTC')\n",
    "data['date_only'] = data['date'].dt.date\n",
    "stock_df['Date'] = pd.to_datetime(stock_df['Date'], format='mixed', errors='coerce')\n",
    "stock_df = stock_df.dropna(subset=['Date'])\n",
    "stock_df['Date'] = stock_df['Date'].dt.tz_localize(None)\n",
    "stock_df['Date'] = stock_df['Date'].dt.date"
   ]
  },
  {
   "cell_type": "markdown",
   "id": "82f846d3",
   "metadata": {},
   "source": [
    "### Merge news and stock data"
   ]
  },
  {
   "cell_type": "code",
   "execution_count": 10,
   "id": "982d0de1",
   "metadata": {},
   "outputs": [
    {
     "name": "stdout",
     "output_type": "stream",
     "text": [
      "Merged Data Sample:\n",
      " Empty DataFrame\n",
      "Columns: [stock, date_only, headline, Close]\n",
      "Index: []\n"
     ]
    }
   ],
   "source": [
    "merged_df = pd.merge(data, stock_df, left_on=['stock', 'date_only'], right_on=['Stock', 'Date'], how='inner')\n",
    "print(\"Merged Data Sample:\\n\", merged_df[['stock', 'date_only', 'headline', 'Close']].head())"
   ]
  }
 ],
 "metadata": {
  "kernelspec": {
   "display_name": "venv",
   "language": "python",
   "name": "python3"
  },
  "language_info": {
   "codemirror_mode": {
    "name": "ipython",
    "version": 3
   },
   "file_extension": ".py",
   "mimetype": "text/x-python",
   "name": "python",
   "nbconvert_exporter": "python",
   "pygments_lexer": "ipython3",
   "version": "3.10.7"
  }
 },
 "nbformat": 4,
 "nbformat_minor": 5
}
