{
 "cells": [
  {
   "cell_type": "markdown",
   "id": "77feea7a",
   "metadata": {},
   "source": [
    "### Data Alignment"
   ]
  },
  {
   "cell_type": "code",
   "execution_count": 52,
   "id": "6ca06d9b",
   "metadata": {},
   "outputs": [],
   "source": [
    "import pandas as pd\n",
    "import os\n",
    "\n",
    "NEWS_FILE = '../data/raw_analyst_ratings.csv'\n",
    "BASE_PATH = '../data/yfinance_data/'\n",
    "STOCK_FILES = {\n",
    "    'AAPL': 'AAPL_historical_data.csv',\n",
    "    'AMZN': 'AMZN_historical_data.csv',\n",
    "    'GOOG': 'GOOG_historical_data.csv',\n",
    "    'META': 'META_historical_data.csv',\n",
    "    'MSFT': 'MSFT_historical_data.csv',\n",
    "    'NVDA': 'NVDA_historical_data.csv',\n",
    "    'TSLA': 'TSLA_historical_data.csv'\n",
    "}\n",
    "\n",
    "news_data = pd.read_csv(NEWS_FILE)\n",
    "stock_data_list = []\n",
    "for ticker, file in STOCK_FILES.items():\n",
    "    file_path = os.path.join(BASE_PATH, file)\n",
    "    if os.path.exists(file_path):\n",
    "        data = pd.read_csv(file_path)\n",
    "        data['Stock'] = ticker\n",
    "        stock_data_list.append(data)\n",
    "    else:\n",
    "        print(f\"File not found: {file_path}\")\n",
    "stock_data = pd.concat(stock_data_list, ignore_index=True)\n",
    "\n",
    "news_data['date'] = pd.to_datetime(news_data['date'], format='mixed', utc=True)\n",
    "news_data['date'] = news_data['date'].dt.tz_convert('America/New_York').dt.date\n",
    "news_data.rename(columns={'date': 'Date', 'stock': 'Stock'}, inplace=True)\n",
    "stock_data['Date'] = pd.to_datetime(stock_data['Date']).dt.date\n",
    "\n",
    "news_data = news_data[news_data['Stock'].isin(STOCK_FILES.keys())]\n",
    "min_date = max(news_data['Date'].min(), stock_data['Date'].min())\n",
    "max_date = min(news_data['Date'].max(), stock_data['Date'].max())\n",
    "news_data = news_data[(news_data['Date'] >= min_date) & (news_data['Date'] <= max_date)]\n",
    "stock_data = stock_data[(stock_data['Date'] >= min_date) & (stock_data['Date'] <= max_date)]\n",
    "merged_data = pd.merge(news_data, stock_data, on=['Date', 'Stock'], how='left')\n",
    "merged_data['Close'] = merged_data.groupby('Stock')['Close'].ffill()\n",
    "merged_data = merged_data.dropna(subset=['Close'])\n",
    "merged_data.to_csv('../data/merged_news_stock.csv', index=False)"
   ]
  }
 ],
 "metadata": {
  "kernelspec": {
   "display_name": "venv",
   "language": "python",
   "name": "python3"
  },
  "language_info": {
   "codemirror_mode": {
    "name": "ipython",
    "version": 3
   },
   "file_extension": ".py",
   "mimetype": "text/x-python",
   "name": "python",
   "nbconvert_exporter": "python",
   "pygments_lexer": "ipython3",
   "version": "3.10.7"
  }
 },
 "nbformat": 4,
 "nbformat_minor": 5
}
